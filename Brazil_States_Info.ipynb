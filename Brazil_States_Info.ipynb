{
 "cells": [
  {
   "cell_type": "code",
   "execution_count": 11,
   "id": "170e20db-bac5-4ec6-b04f-164835e190b7",
   "metadata": {},
   "outputs": [
    {
     "name": "stdout",
     "output_type": "stream",
     "text": [
      "Excel file saved at Brazil_States_Distances_with_Additional_Data.\n"
     ]
    }
   ],
   "source": [
    "import math\n",
    "import pandas as pd\n",
    "\n",
    "# Haversine formula to calculate the distance between two sets of lat/lon\n",
    "def haversine(lon1, lat1, lon2, lat2):\n",
    "    R = 6371.0  # Earth radius in kilometers\n",
    "    lon1, lat1, lon2, lat2 = map(math.radians, [lon1, lat1, lon2, lat2])\n",
    "    dlon = lon2 - lon1\n",
    "    dlat = lat2 - lat1\n",
    "    a = math.sin(dlat / 2) ** 2 + math.cos(lat1) * math.cos(lat2) * math.sin(dlon / 2) ** 2\n",
    "    c = 2 * math.atan2(math.sqrt(a), math.sqrt(1 - a))\n",
    "    distance = R * c\n",
    "    return distance\n",
    "\n",
    "# Complete data for the 27 Brazilian states\n",
    "states_data = [\n",
    "    {'acronym': 'AC', 'latitude': -9.11, 'longitude': -70.52, 'area_km2': 164123, 'population': 881935, 'density_p_km2': 5.4},\n",
    "    {'acronym': 'AL', 'latitude': -9.57, 'longitude': -36.55, 'area_km2': 27767, 'population': 3337357, 'density_p_km2': 120.2},\n",
    "    {'acronym': 'AP', 'latitude': 1.00, 'longitude': -52.00, 'area_km2': 142814, 'population': 845731, 'density_p_km2': 6.1},\n",
    "    {'acronym': 'AM', 'latitude': -5.00, 'longitude': -63.00, 'area_km2': 1570745, 'population': 4207714, 'density_p_km2': 2.7},\n",
    "    {'acronym': 'BA', 'latitude': -12.52, 'longitude': -41.69, 'area_km2': 564733, 'population': 14873064, 'density_p_km2': 26.3},\n",
    "    {'acronym': 'CE', 'latitude': -5.08, 'longitude': -39.65, 'area_km2': 148920, 'population': 9132078, 'density_p_km2': 61.3},\n",
    "    {'acronym': 'DF', 'latitude': -15.795, 'longitude': -47.757778, 'area_km2': 5802, 'population': 3015268, 'density_p_km2': 520.2},\n",
    "    {'acronym': 'ES', 'latitude': -20.318889, 'longitude': -40.337778, 'area_km2': 46095, 'population': 4018650, 'density_p_km2': 87.2},\n",
    "    {'acronym': 'GO', 'latitude': -15.933333, 'longitude': -50.133333, 'area_km2': 340111, 'population': 7018354, 'density_p_km2': 20.6},\n",
    "    {'acronym': 'MA', 'latitude': -6.183333, 'longitude': -45.616667, 'area_km2': 331937, 'population': 7075181, 'density_p_km2': 21.3},\n",
    "    {'acronym': 'MT', 'latitude': -15.566667, 'longitude': -56.066667, 'area_km2': 903357, 'population': 3484466, 'density_p_km2': 3.8},\n",
    "    {'acronym': 'MS', 'latitude': -20.442778, 'longitude': -54.645833, 'area_km2': 357125, 'population': 2778986, 'density_p_km2': 7.8},\n",
    "    {'acronym': 'MG', 'latitude': -19.816667, 'longitude': -43.95, 'area_km2': 586528, 'population': 21168791, 'density_p_km2': 36.1},\n",
    "    {'acronym': 'PA', 'latitude': -5.666667, 'longitude': -52.733333, 'area_km2': 1247689, 'population': 8602865, 'density_p_km2': 6.9},\n",
    "    {'acronym': 'PB', 'latitude': -7.166667, 'longitude': -36.833333, 'area_km2': 56585, 'population': 4018127, 'density_p_km2': 71.0},\n",
    "    {'acronym': 'PR', 'latitude': -24.00, 'longitude': -51.00, 'area_km2': 199314, 'population': 11433957, 'density_p_km2': 57.4},\n",
    "    {'acronym': 'PE', 'latitude': -8.34, 'longitude': -37.81, 'area_km2': 98311, 'population': 9557071, 'density_p_km2': 96.9},\n",
    "    {'acronym': 'PI', 'latitude': -8.233333, 'longitude': -43.1, 'area_km2': 251577, 'population': 3273227, 'density_p_km2': 13.0},\n",
    "    {'acronym': 'RJ', 'latitude': -22.9, 'longitude': -43.2, 'area_km2': 43796, 'population': 17264943, 'density_p_km2': 394.2},\n",
    "    {'acronym': 'RN', 'latitude': -5.74, 'longitude': -36.55, 'area_km2': 52811, 'population': 3506853, 'density_p_km2': 66.4},\n",
    "    {'acronym': 'RS', 'latitude': -30.00, 'longitude': -53.00, 'area_km2': 281748, 'population': 11377239, 'density_p_km2': 40.4},\n",
    "    {'acronym': 'RO', 'latitude': -10.9, 'longitude': -62.76, 'area_km2': 237765, 'population': 1777225, 'density_p_km2': 7.5},\n",
    "    {'acronym': 'RR', 'latitude': 2.05, 'longitude': -61.4, 'area_km2': 224299, 'population': 605761, 'density_p_km2': 2.7},\n",
    "    {'acronym': 'SC', 'latitude': -27.25, 'longitude': -50.333333, 'area_km2': 95736, 'population': 7164788, 'density_p_km2': 75.6},\n",
    "    {'acronym': 'SP', 'latitude': -23.533333, 'longitude': -46.633333, 'area_km2': 248222, 'population': 45919049, 'density_p_km2': 184.9},\n",
    "    {'acronym': 'SE', 'latitude': -10.59, 'longitude': -37.38, 'area_km2': 21910, 'population': 2298696, 'density_p_km2': 104.9},\n",
    "    {'acronym': 'TO', 'latitude': -10.183333, 'longitude': -48.333333, 'area_km2': 277620, 'population': 1572866, 'density_p_km2': 5.7}\n",
    "]\n",
    "\n",
    "# Prepare the data for Excel output\n",
    "rows = []\n",
    "for i, state1 in enumerate(states_data):\n",
    "    for j, state2 in enumerate(states_data):\n",
    "        # Calculate distance between each pair of states\n",
    "        distance = haversine(state1['longitude'], state1['latitude'], state2['longitude'], state2['latitude'])\n",
    "        \n",
    "        # Add data for both states, along with the calculated distance\n",
    "        rows.append({\n",
    "            'distance_id': state1['acronym']+state2['acronym'],\n",
    "            'state1': state1['acronym'],\n",
    "            'latitude1': state1['latitude'],\n",
    "            'longitude1': state1['longitude'],\n",
    "            'area1': state1['area_km2'],\n",
    "            'population1': state1['population'],\n",
    "            'density1': state1['density_p_km2'],\n",
    "            'state2': state2['acronym'],\n",
    "            'latitude2': state2['latitude'],\n",
    "            'longitude2': state2['longitude'],\n",
    "            'area': state2['area_km2'],\n",
    "            'population2': state2['population'],\n",
    "            'density2': state2['density_p_km2'],\n",
    "            'distance_km': round(distance, 2)\n",
    "        })\n",
    "\n",
    "# Convert to DataFrame and save to Excel\n",
    "df = pd.DataFrame(rows)\n",
    "output_path = \"Brazil_States_Distances_with_Additional_Data.\"\n",
    "df.to_excel(output_path+'xlsx', index=False)\n",
    "df.to_csv(output_path+'csv', index=False)\n",
    "#print(df)\n",
    "\n",
    "print(f\"Excel file saved at {output_path}\")\n"
   ]
  },
  {
   "cell_type": "code",
   "execution_count": null,
   "id": "c99a28b7-55b6-4826-8c94-5932823a0c57",
   "metadata": {},
   "outputs": [],
   "source": []
  }
 ],
 "metadata": {
  "kernelspec": {
   "display_name": "Python 3 (ipykernel)",
   "language": "python",
   "name": "python3"
  },
  "language_info": {
   "codemirror_mode": {
    "name": "ipython",
    "version": 3
   },
   "file_extension": ".py",
   "mimetype": "text/x-python",
   "name": "python",
   "nbconvert_exporter": "python",
   "pygments_lexer": "ipython3",
   "version": "3.11.9"
  }
 },
 "nbformat": 4,
 "nbformat_minor": 5
}
